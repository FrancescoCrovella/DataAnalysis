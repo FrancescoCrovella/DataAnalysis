{
 "cells": [
  {
   "cell_type": "code",
   "execution_count": 1,
   "metadata": {},
   "outputs": [],
   "source": [
    "#PYTHON BEST LIBRARIES\n",
    "\n",
    "import pandas as pd\n",
    "from pandas.io.json import json_normalize # tranform JSON file into a pandas dataframe\n",
    "\n",
    "pd.set_option('display.max_columns', None)\n",
    "pd.set_option('display.max_rows', None)\n",
    "\n",
    "import wikipedia as wp\n",
    "import requests\n",
    "from bs4 import BeautifulSoup\n",
    "import numpy as np # library to handle data in a vectorized manner\n",
    "import json # library to handle JSON files\n",
    "from geopy.geocoders import Nominatim # convert an address into latitude and longitude values\n",
    "import geopandas as gpd\n",
    "\n",
    "# Matplotlib and associated plotting modules\n",
    "import matplotlib.cm as cm\n",
    "import matplotlib.colors as colors\n",
    "import matplotlib.pyplot as plt\n",
    "\n",
    "import folium # map rendering library\n",
    "from folium import plugins\n",
    "from folium.plugins import HeatMap"
   ]
  }
 ],
 "metadata": {
  "interpreter": {
   "hash": "1c18608706caa56e8850ca7bec17a8d90df14c6cc27e4b92b29919c17cc8417f"
  },
  "kernelspec": {
   "display_name": "Python 3.9.7 64-bit ('base': conda)",
   "language": "python",
   "name": "python3"
  },
  "language_info": {
   "codemirror_mode": {
    "name": "ipython",
    "version": 3
   },
   "file_extension": ".py",
   "mimetype": "text/x-python",
   "name": "python",
   "nbconvert_exporter": "python",
   "pygments_lexer": "ipython3",
   "version": "3.9.7"
  },
  "orig_nbformat": 4
 },
 "nbformat": 4,
 "nbformat_minor": 2
}
